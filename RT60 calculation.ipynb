{
 "cells": [
  {
   "cell_type": "code",
   "execution_count": 1,
   "metadata": {
    "ExecuteTime": {
     "end_time": "2018-12-14T03:18:27.298216Z",
     "start_time": "2018-12-14T03:18:26.622928Z"
    }
   },
   "outputs": [],
   "source": [
    "import numpy as np"
   ]
  },
  {
   "cell_type": "code",
   "execution_count": 28,
   "metadata": {
    "ExecuteTime": {
     "end_time": "2018-12-14T04:36:25.637194Z",
     "start_time": "2018-12-14T04:36:24.652990Z"
    }
   },
   "outputs": [],
   "source": [
    "import matplotlib.pyplot as plt\n",
    "%matplotlib inline"
   ]
  },
  {
   "cell_type": "code",
   "execution_count": 3,
   "metadata": {
    "ExecuteTime": {
     "end_time": "2018-12-14T03:54:11.634311Z",
     "start_time": "2018-12-14T03:54:11.613158Z"
    }
   },
   "outputs": [],
   "source": [
    "\n",
    "? np.nonzero()"
   ]
  },
  {
   "cell_type": "code",
   "execution_count": 47,
   "metadata": {
    "ExecuteTime": {
     "end_time": "2018-12-14T04:47:20.481611Z",
     "start_time": "2018-12-14T04:47:20.462650Z"
    }
   },
   "outputs": [],
   "source": [
    "%%writefile re\n",
    "\n",
    "import numpy as np\n",
    "import matplotlib.pyplot\n",
    "\n",
    "def RT60(rir,fs,is_plot=False):\n",
    "    \"\"\"estimate reverberation time based on room impulse response time\n",
    "        Args:\n",
    "            rir: room impulse response\n",
    "            fs: sample frequency\n",
    "            \n",
    "        Returns:\n",
    "            estimated RT60 in second\n",
    "    \"\"\"\n",
    "    rir = np.reshape(rir,newshape=[-1,1])\n",
    "    rir_duration = np.float32(rir.shape[0])/fs\n",
    "        \n",
    "    start_pos =0\n",
    "    end_pos = rir.shape[0]\n",
    "    # \n",
    "    iidc = np.flipud(np.cumsum(np.flipud(rir**2)))# inverse integration decay curve, whole rir\n",
    "    iidc_norm = 10*np.log10(iidc/np.max(iidc))\n",
    "\n",
    "    # linear regression\n",
    "    # further limit the time range\n",
    "#     print np.nonzero(iidc_norm[start_pos:end_pos]<-5)\n",
    "    db5_pos = np.nonzero(iidc_norm[start_pos:end_pos]<=-5)[0][0]+start_pos\n",
    "    db35_pos = np.nonzero(iidc_norm[start_pos:end_pos]<-35)[0][0]+start_pos\n",
    "    coeffs = np.polyfit(np.arange(db5_pos,db35_pos,dtype=np.float32)/fs,\n",
    "                        iidc_norm[db5_pos:db35_pos],\n",
    "                        deg=1)\n",
    "    slope = coeffs[0]\n",
    "    RT = -60.0/slope\n",
    "    \n",
    "    if is_plot:\n",
    "        plt.figure()\n",
    "        axs = plt.subplot()\n",
    "        time = np.arange(0,rir_duration,1./fs)\n",
    "        plt.plot(time,iidc_norm,label='inverse integration')\n",
    "        plt.plot(time,time*slope+coeffs[1],label='line regression')\n",
    "        plt.setp(axs.lines,linewidth=3)\n",
    "        plt.title('RT30=%.2f'%RT)\n",
    "        plt.xlabel('time(s)'); plt.ylabel('amplitude(dB)')\n",
    "    return RT\n",
    "    "
   ]
  },
  {
   "cell_type": "code",
   "execution_count": 8,
   "metadata": {
    "ExecuteTime": {
     "end_time": "2018-12-14T04:31:32.185996Z",
     "start_time": "2018-12-14T04:31:31.796224Z"
    }
   },
   "outputs": [],
   "source": [
    "import h5py"
   ]
  },
  {
   "cell_type": "code",
   "execution_count": 22,
   "metadata": {
    "ExecuteTime": {
     "end_time": "2018-12-14T04:34:57.913130Z",
     "start_time": "2018-12-14T04:34:57.898584Z"
    }
   },
   "outputs": [],
   "source": [
    "RIR_list = []\n",
    "RIR_dir = '../Dereverberation/spec_mapping/RIR-Generator/RIRs_v2_no_delay/'\n",
    "for set_name in ['Train','Develop','Test']:\n",
    "    for RT_i, RT in enumerate([0.3,0.6,0.9]):\n",
    "        for pos_i in xrange(2):\n",
    "            RIR_file = h5py.File('%s/%s_%02d_%d.mat'%(RIR_dir,set_name,10*RT,pos_i+1))\n",
    "            RIR = np.squeeze(np.asarray(RIR_file['RIR_no_delay'],dtype=np.float32))\n",
    "            break"
   ]
  },
  {
   "cell_type": "code",
   "execution_count": 48,
   "metadata": {
    "ExecuteTime": {
     "end_time": "2018-12-14T04:47:22.203626Z",
     "start_time": "2018-12-14T04:47:22.049332Z"
    }
   },
   "outputs": [
    {
     "data": {
      "text/plain": [
       "1.3997573041816675"
      ]
     },
     "execution_count": 48,
     "metadata": {},
     "output_type": "execute_result"
    },
    {
     "data": {
      "image/png": "[encoded data removed]",
      "text/plain": [
       "<Figure size 432x288 with 1 Axes>"
      ]
     },
     "metadata": {},
     "output_type": "display_data"
    }
   ],
   "source": [
    "RT60(RIR,16000,True)"
   ]
  },
  {
   "cell_type": "code",
   "execution_count": null,
   "metadata": {},
   "outputs": [],
   "source": []
  }
 ],
 "metadata": {
  "kernelspec": {
   "display_name": "Python 2",
   "language": "python",
   "name": "python2"
  },
  "language_info": {
   "codemirror_mode": {
    "name": "ipython",
    "version": 2
   },
   "file_extension": ".py",
   "mimetype": "text/x-python",
   "name": "python",
   "nbconvert_exporter": "python",
   "pygments_lexer": "ipython2",
   "version": "2.7.12"
  },
  "toc": {
   "base_numbering": 1,
   "nav_menu": {},
   "number_sections": true,
   "sideBar": true,
   "skip_h1_title": false,
   "title_cell": "Table of Contents",
   "title_sidebar": "Contents",
   "toc_cell": false,
   "toc_position": {},
   "toc_section_display": true,
   "toc_window_display": false
  }
 },
 "nbformat": 4,
 "nbformat_minor": 2
}
