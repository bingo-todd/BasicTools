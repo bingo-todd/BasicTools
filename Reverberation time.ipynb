{
 "cells": [
  {
   "cell_type": "code",
   "execution_count": 1,
   "metadata": {
    "ExecuteTime": {
     "end_time": "2018-10-15T13:29:24.453396Z",
     "start_time": "2018-10-15T13:29:23.674263Z"
    }
   },
   "outputs": [],
   "source": [
    "import numpy as np"
   ]
  },
  {
   "cell_type": "code",
   "execution_count": 2,
   "metadata": {
    "ExecuteTime": {
     "end_time": "2018-10-15T13:29:37.446394Z",
     "start_time": "2018-10-15T13:29:36.278503Z"
    }
   },
   "outputs": [],
   "source": [
    "import matplotlib.pyplot as plt\n",
    "%matplotlib inline"
   ]
  },
  {
   "cell_type": "code",
   "execution_count": null,
   "metadata": {},
   "outputs": [],
   "source": [
    "RT_list = zeros(0,1);\n",
    "% % roomount = 1;\n",
    "\n",
    "room_size=[5,4,2.75];\n",
    "F_abs = [125,250,500,1000,2000,4000];\n",
    "\n",
    "scale_list = 0.1:0.0001:10;\n",
    "scale_num = length(scale_list);\n",
    "\n",
    "for scale_i = 1:scale_num\n",
    "    A_wall = [0.03 0.15 0.50 0.80 0.85 0.80\n",
    "              0.03 0.15 0.50 0.80 0.85 0.80\n",
    "              0.03 0.15 0.50 0.80 0.85 0.08\n",
    "              0.03 0.15 0.50 0.80 0.85 0.80];\n",
    "\n",
    "    A_floor = [0.15 0.11 0.10 0.07 0.06 0.07];\n",
    "\n",
    "    A_roof =  [0.01 0.01 0.01 0.02 0.02 0.02];\n",
    "\n",
    "    A_all = [A_wall*scale_list(scale_i); A_floor; A_roof]';\n",
    "\n",
    "    humidity = 50;\n",
    "    m_air = 5.5E-4*(50/humidity)*(F_abs/1000).^(1.7);\n",
    "    c= 343;\n",
    "\n",
    "    RT60_estimator = 'Norris_Eyring';\n",
    "    [RT60_Air MFP_Air]= reverberation_time(c,room_size,A_all,F_abs,m_air,RT60_estimator);\n",
    "    RT_list(end+1) = RT60_Air(4);\n",
    "end\n",
    "\n",
    "plot(scale_list,RT_list,'linewidth',2);\n",
    "hold on;\n",
    "plot([1,1],[0,2],'r');\n",
    "xlabel('scale'); ylabel('RT(1 kHz)');\n",
    "saveas(gcf,'RT_curve','bmp');\n",
    "% close\n",
    "\n",
    "tar_RT = 1.48:0.08:2.12;\n",
    "tar_RT = [0.2,0.45,0.7];\n",
    "tar_RT_len = length(tar_RT);\n",
    "tar_A = zeros(tar_RT_len,1);\n",
    "for tar_RT_i = 1:tar_RT_len\n",
    "    [~,index] = min((tar_RT(tar_RT_i)-RT_list).^2);\n",
    "    tar_A(tar_RT_i) = scale_list(index);\n",
    "end\n",
    "%stem(tar_RT,tar_A);\n",
    "disp(tar_A');"
   ]
  },
  {
   "cell_type": "code",
   "execution_count": null,
   "metadata": {},
   "outputs": [],
   "source": [
    "function [RT60, MFP]= reverberation_time(c,room_size,A,F_abs,m_air,estimator)\n",
    "\n",
    "Lx=room_size(1);\n",
    "Ly=room_size(2);\n",
    "Lz=room_size(3);\n",
    "V_room = Lx.*Ly.*Lz; % Volume of room m^3\n",
    "Sxz=Lx.*Lz;\n",
    "Syz=Ly.*Lz;\n",
    "Sxy=Lx.*Ly;\n",
    "S =2.*(Sxz + Syz + Sxy); % Total area of shoebox room surfaces\n",
    "Se = Syz.*(A(:,1) + A(:,2)) + Sxz.*(A(:,3) + A(:,4)) + Sxy.*(A(:,5) + A(:,6)); %Effective absorbing area of room surfaces at each frequency\n",
    "a_bar = Se./S; % Mean absorption of each room surface\n",
    "m = mean(m_air); % Mean absorption of air averaged across frequency.\n",
    "MFP = 4*V_room/S; % Mean Free Path (Average distance between succesive reflections) (Ref A4)\n",
    "\n",
    "% Reverberation time estimate \n",
    "if abs(1-a_bar) < eps, % Detect anechoic case and force RT60 all zeros.\n",
    "    RT60 = zeros(size(F_abs));\n",
    "else % Select an estimation equation\n",
    "    switch estimator\n",
    "        case {'Sabine'}\n",
    "            RT60 = (55.25/c)*V_room./Se; % Sabine equation\n",
    "        case {'SabineAir'}\n",
    "            RT60 = (55.25/c)*V_room./(4*m_air'*V_room+Se); % Sabine equation (SI units) adjusted for air\n",
    "        case {'SabineAirHiAbs'}\n",
    "            RT60 = (55.25/c)*V_room./(4*m_air'*V_room+Se.*(1+a_bar/2)); % Sabine equation (SI units) adjusted for air and high absorption\n",
    "        case {'Norris_Eyring'}\n",
    "            RT60 = (55.25/c)*V_room./(4*m_air'*V_room-S*log(1-a_bar+eps)); % Norris-Eyring estimate adjusted for air absorption\n",
    "    end;\n",
    "end;\n",
    "%-------------------------- End of reverberation_time.m ---------------------------------------------\n"
   ]
  },
  {
   "cell_type": "code",
   "execution_count": null,
   "metadata": {},
   "outputs": [],
   "source": [
    "def RT60_estimator(c,room_size,A,freqs,estimator):\n",
    "    \"\"\"estimator RT60 based on room size and surface materials(sound absorption coefficients)\n",
    "    c: sound speed,343\n",
    "    room_size: [length,width,heigth]\n",
    "    A: sound aborption coefficents,[freq_chann,6(surfaces)]\n",
    "    freqs: frequency on which RT60 is estimated\n",
    "    estimator: estimation method, {\"Sabine\",\"SabineAir\",\"SabineAirHiAbs\",\"Norris_Eyring\"}\n",
    "    \"\"\"\n",
    "    Lx,Ly,Lz = room_size\n",
    "    V_room = Lx*Ly*Lz # vlolume of room\n",
    "    # area of each surface\n",
    "    Sxy = Lx*Ly\n",
    "    Sxz = Lx*Ly\n",
    "    Syz = Ly*Lz\n",
    "    S = 2*(Lxy+Lxz+Lyz) # total area\n",
    "    Se = Syz*(A[:,0]+A[:,1]) + Sxz*(A[:,2]+A[:,3]) + Sxy*(A[:,4]+A[:,5])\n",
    "    A_mean = Se/S # mean absorption coefficients\n",
    "    \n",
    "    # absorption coeffeicents of air\n",
    "    humidity = 50;\n",
    "    A_air = 5.5E-4*(50/humidity)*(F_abs/1000).^(1.7);\n",
    "    A_air_bar = np.mean(A_air)\n",
    "    \n",
    "    MFP = 4*V_room/S # Mean Free Path(avarage distance between successive reflections)\n",
    "    \n",
    "    if np.abs(1-A_air_bar) < np.1e-20:\n",
    "        RT60 = np.zeros_like(F_abs)\n",
    "    else:\n",
    "        if RT60_estimator == 'Sabine':\n",
    "            RT60 = (55.25/c)*V_room/Se\n",
    "        elif RT60_estimator == 'SabineAir':\n",
    "            RT60 = (55.25/c)*V_room/()4*A_air"
   ]
  }
 ],
 "metadata": {
  "kernelspec": {
   "display_name": "Python 2",
   "language": "python",
   "name": "python2"
  },
  "language_info": {
   "codemirror_mode": {
    "name": "ipython",
    "version": 2
   },
   "file_extension": ".py",
   "mimetype": "text/x-python",
   "name": "python",
   "nbconvert_exporter": "python",
   "pygments_lexer": "ipython2",
   "version": "2.7.12"
  },
  "toc": {
   "base_numbering": 1,
   "nav_menu": {},
   "number_sections": true,
   "sideBar": true,
   "skip_h1_title": false,
   "title_cell": "Table of Contents",
   "title_sidebar": "Contents",
   "toc_cell": false,
   "toc_position": {},
   "toc_section_display": true,
   "toc_window_display": false
  }
 },
 "nbformat": 4,
 "nbformat_minor": 2
}
